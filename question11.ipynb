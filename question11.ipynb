{
 "cells": [
  {
   "cell_type": "markdown",
   "id": "96518f2a-b34f-416d-9244-af2665da3c98",
   "metadata": {},
   "source": [
    "# Sindiso dube\n",
    "## Notebook for Assignment 7"
   ]
  },
  {
   "cell_type": "code",
   "execution_count": 1,
   "id": "c0c5484b-0145-4f6a-9840-deddb6f610f4",
   "metadata": {
    "tags": []
   },
   "outputs": [
    {
     "name": "stdout",
     "output_type": "stream",
     "text": [
      "5.0\n"
     ]
    }
   ],
   "source": [
    "def compute_mean(numbers):\n",
    "    total = sum(numbers)\n",
    "    mean = total/len(numbers)\n",
    "    print(mean)\n",
    "#call the function with an example list\n",
    "compute_mean([2,4,6,8])"
   ]
  },
  {
   "cell_type": "markdown",
   "id": "624def35-5384-4929-8eeb-a0a4eded9eff",
   "metadata": {
    "tags": []
   },
   "source": [
    "The code computes the sum of elements using the 'sum' function and stores the result using the variable 'total'. The mean is then calculated by dividing the sum by the number of elements obtained using the \"len\" function.\n",
    "$\\bar{x}=\\frac{x_1+x_2+\\cdots+x_n}{n}=\\frac{1}{n}\\sum_{i=1}^{n}x_i$"
   ]
  },
  {
   "cell_type": "code",
   "execution_count": null,
   "id": "8ef73a6b-c521-4b82-b43a-1d8a8a9af2ad",
   "metadata": {},
   "outputs": [],
   "source": []
  }
 ],
 "metadata": {
  "kernelspec": {
   "display_name": "Python 3 (ipykernel)",
   "language": "python",
   "name": "python3"
  },
  "language_info": {
   "codemirror_mode": {
    "name": "ipython",
    "version": 3
   },
   "file_extension": ".py",
   "mimetype": "text/x-python",
   "name": "python",
   "nbconvert_exporter": "python",
   "pygments_lexer": "ipython3",
   "version": "3.10.9"
  }
 },
 "nbformat": 4,
 "nbformat_minor": 5
}
