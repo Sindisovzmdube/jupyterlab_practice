{
 "cells": [
  {
   "cell_type": "markdown",
   "id": "bbea1c50-a3ab-4725-98cd-3c31056ef182",
   "metadata": {},
   "source": [
    "## We are currently working on the following directory"
   ]
  },
  {
   "cell_type": "code",
   "execution_count": 17,
   "id": "4e07f229-fe97-4300-8676-7ed0226cf8b9",
   "metadata": {
    "tags": []
   },
   "outputs": [
    {
     "name": "stdout",
     "output_type": "stream",
     "text": [
      "/Users/sindisodube/Documents/student-3\n"
     ]
    }
   ],
   "source": [
    "!pwd"
   ]
  },
  {
   "cell_type": "markdown",
   "id": "d3815624-3aa5-4a36-a06e-b973204682fa",
   "metadata": {},
   "source": [
    "To time how long it takes to run a Python cell, we could use the timeit command inside as shown below: Followed by the proper use of the timeit command to time the following loop\n",
    "\n",
    "```python \n",
    "%%timeit\n",
    "for i in range(1_000_000):\n",
    "    i**2\n",
    "```\n"
   ]
  },
  {
   "cell_type": "code",
   "execution_count": 18,
   "id": "78b895a9-756a-4652-8fbf-feb049fcc410",
   "metadata": {
    "tags": []
   },
   "outputs": [
    {
     "name": "stdout",
     "output_type": "stream",
     "text": [
      "[NbConvertApp] WARNING | Config option `kernel_spec_manager_class` not recognized by `NbConvertApp`.\n",
      "[NbConvertApp] Converting notebook question12.ipynb to html\n",
      "[NbConvertApp] Writing 576592 bytes to output-filename.html\n"
     ]
    }
   ],
   "source": [
    "!jupyter nbconvert question12.ipynb \\\n",
    "   --to html \\\n",
    "   --output=output-filename.html \\\n",
    "   --no-input"
   ]
  },
  {
   "cell_type": "code",
   "execution_count": null,
   "id": "c9b7ef08-36c6-423e-b077-791f20fa4771",
   "metadata": {},
   "outputs": [],
   "source": []
  }
 ],
 "metadata": {
  "kernelspec": {
   "display_name": "Python 3 (ipykernel)",
   "language": "python",
   "name": "python3"
  },
  "language_info": {
   "codemirror_mode": {
    "name": "ipython",
    "version": 3
   },
   "file_extension": ".py",
   "mimetype": "text/x-python",
   "name": "python",
   "nbconvert_exporter": "python",
   "pygments_lexer": "ipython3",
   "version": "3.10.9"
  }
 },
 "nbformat": 4,
 "nbformat_minor": 5
}
